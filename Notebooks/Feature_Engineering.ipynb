{
 "cells": [
  {
   "cell_type": "code",
   "execution_count": 3,
   "id": "e2ac3f5c",
   "metadata": {},
   "outputs": [],
   "source": [
    "import os\n",
    "import numpy as np\n",
    "import pandas as pd\n",
    "import matplotlib.pyplot as plt\n",
    "import seaborn as sns"
   ]
  },
  {
   "cell_type": "code",
   "execution_count": null,
   "id": "7a0b08f1",
   "metadata": {},
   "outputs": [],
   "source": [
    "merged = pd.read_csv(\"../Data/Processed/cleaned_merged.csv\")"
   ]
  },
  {
   "cell_type": "code",
   "execution_count": 5,
   "id": "105d0804",
   "metadata": {},
   "outputs": [
    {
     "name": "stdout",
     "output_type": "stream",
     "text": [
      "         date  usage_cpu  usage_storage  users_active  economic_index  \\\n",
      "0  2023-01-01         88           1959           470          104.97   \n",
      "1  2023-01-01         92           1595           388          104.97   \n",
      "2  2023-01-01         70            621           414          104.97   \n",
      "3  2023-01-01         60           1982           287          104.97   \n",
      "4  2023-01-01         85           1371           351          104.97   \n",
      "\n",
      "   cloud_market_demand  holiday  region_north europe  region_southeast asia  \\\n",
      "0                 0.99        1                False                  False   \n",
      "1                 0.99        1                False                  False   \n",
      "2                 0.99        1                False                  False   \n",
      "3                 0.99        1                False                  False   \n",
      "4                 0.99        1                False                  False   \n",
      "\n",
      "   region_west us  resource_type_storage  resource_type_vm  \n",
      "0           False                  False              True  \n",
      "1           False                   True             False  \n",
      "2           False                  False             False  \n",
      "3            True                  False              True  \n",
      "4            True                   True             False  \n"
     ]
    }
   ],
   "source": [
    "encoded = pd.get_dummies(merged, columns=[\"region\", \"resource_type\"], drop_first=True)\n",
    "\n",
    "print(encoded.head())"
   ]
  },
  {
   "cell_type": "code",
   "execution_count": 6,
   "id": "8e18000b",
   "metadata": {},
   "outputs": [
    {
     "name": "stdout",
     "output_type": "stream",
     "text": [
      "         date  usage_cpu  usage_storage  users_active  economic_index  \\\n",
      "0  2023-01-01         88           1959           470          104.97   \n",
      "1  2023-01-01         92           1595           388          104.97   \n",
      "2  2023-01-01         70            621           414          104.97   \n",
      "3  2023-01-01         60           1982           287          104.97   \n",
      "4  2023-01-01         85           1371           351          104.97   \n",
      "\n",
      "   cloud_market_demand  holiday  region_north europe  region_southeast asia  \\\n",
      "0                 0.99        1                    0                      0   \n",
      "1                 0.99        1                    0                      0   \n",
      "2                 0.99        1                    0                      0   \n",
      "3                 0.99        1                    0                      0   \n",
      "4                 0.99        1                    0                      0   \n",
      "\n",
      "   region_west us  resource_type_storage  resource_type_vm  \n",
      "0               0                      0                 1  \n",
      "1               0                      1                 0  \n",
      "2               0                      0                 0  \n",
      "3               1                      0                 1  \n",
      "4               1                      1                 0  \n"
     ]
    }
   ],
   "source": [
    "for col in encoded.select_dtypes(include=[\"bool\"]).columns:\n",
    "    encoded[col] = encoded[col].astype(int)\n",
    "\n",
    "print(encoded.head())"
   ]
  },
  {
   "cell_type": "code",
   "execution_count": 7,
   "id": "08e9425d",
   "metadata": {},
   "outputs": [],
   "source": [
    "encoded.to_csv(\"../Data/Processed/Encoded_Cleaned_Data.csv\",index=False)"
   ]
  }
 ],
 "metadata": {
  "kernelspec": {
   "display_name": "myenv (3.13.3)",
   "language": "python",
   "name": "python3"
  },
  "language_info": {
   "codemirror_mode": {
    "name": "ipython",
    "version": 3
   },
   "file_extension": ".py",
   "mimetype": "text/x-python",
   "name": "python",
   "nbconvert_exporter": "python",
   "pygments_lexer": "ipython3",
   "version": "3.13.3"
  }
 },
 "nbformat": 4,
 "nbformat_minor": 5
}
