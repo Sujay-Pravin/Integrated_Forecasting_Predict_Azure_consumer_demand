{
 "cells": [
  {
   "cell_type": "code",
   "execution_count": 1,
   "id": "1e74c328",
   "metadata": {},
   "outputs": [],
   "source": [
    "import os\n",
    "import numpy as np\n",
    "import pandas as pd\n",
    "import matplotlib.pyplot as plt\n",
    "import seaborn as sns"
   ]
  },
  {
   "cell_type": "code",
   "execution_count": 2,
   "id": "dba4bd73",
   "metadata": {},
   "outputs": [
    {
     "name": "stdout",
     "output_type": "stream",
     "text": [
      "------------------------------------df1-----------------------------------------\n",
      "         date   region resource_type  usage_cpu  usage_storage  users_active\n",
      "0  2023-01-01  East US            VM         88           1959           470\n",
      "1  2023-01-01  East US       Storage         92           1595           388\n",
      "2  2023-01-01  East US     Container         70            621           414\n",
      "3  2023-01-01  West US            VM         60           1982           287\n",
      "4  2023-01-01  West US       Storage         85           1371           351\n",
      "------------------------------------df2-----------------------------------------\n",
      "         date  economic_index  cloud_market_demand  holiday\n",
      "0  2023-01-01          104.97                 0.99        1\n",
      "1  2023-01-02          106.48                 1.15        0\n",
      "2  2023-01-03           97.66                 0.98        0\n",
      "3  2023-01-04          115.79                 1.08        0\n",
      "4  2023-01-05           95.31                 1.05        0\n"
     ]
    }
   ],
   "source": [
    "df1 = pd.read_csv(\"../Data/Raw/azure_usage.csv\")\n",
    "df2 = pd.read_csv(\"../Data/Raw/external_factors.csv\")\n",
    "\n",
    "print(\"------------------------------------df1-----------------------------------------\")\n",
    "print(df1.head())\n",
    "print(\"------------------------------------df2-----------------------------------------\")\n",
    "print(df2.head())\n"
   ]
  },
  {
   "cell_type": "code",
   "execution_count": 3,
   "id": "66962436",
   "metadata": {},
   "outputs": [
    {
     "name": "stdout",
     "output_type": "stream",
     "text": [
      "1080\n"
     ]
    }
   ],
   "source": [
    "df1[\"date\"] = pd.to_datetime(df1[\"date\"], errors=\"coerce\")\n",
    "df1[\"region\"] = df1[\"region\"].str.strip().str.lower()\n",
    "df1[\"resource_type\"] = df1[\"resource_type\"].str.strip().str.lower()\n",
    "df1.drop_duplicates(inplace=True)\n",
    "print(len(df1))"
   ]
  },
  {
   "cell_type": "code",
   "execution_count": 4,
   "id": "64542b41",
   "metadata": {},
   "outputs": [
    {
     "name": "stdout",
     "output_type": "stream",
     "text": [
      "Null values in azure_usage\n",
      "date             0\n",
      "region           0\n",
      "resource_type    0\n",
      "usage_cpu        0\n",
      "usage_storage    0\n",
      "users_active     0\n",
      "dtype: int64\n",
      "        date   region resource_type  usage_cpu  usage_storage  users_active\n",
      "0 2023-01-01  east us            vm         88           1959           470\n",
      "1 2023-01-01  east us       storage         92           1595           388\n",
      "2 2023-01-01  east us     container         70            621           414\n",
      "3 2023-01-01  west us            vm         60           1982           287\n",
      "4 2023-01-01  west us       storage         85           1371           351\n"
     ]
    }
   ],
   "source": [
    "print(\"Null values in azure_usage\")\n",
    "print(df1.isnull().sum())\n",
    "print(df1.head())\n"
   ]
  },
  {
   "cell_type": "code",
   "execution_count": 5,
   "id": "b2f6527d",
   "metadata": {},
   "outputs": [],
   "source": [
    "df2[\"date\"] = pd.to_datetime(df2[\"date\"], errors=\"coerce\")   \n",
    "df2.drop_duplicates(inplace=True)"
   ]
  },
  {
   "cell_type": "code",
   "execution_count": 6,
   "id": "7b2986a2",
   "metadata": {},
   "outputs": [
    {
     "name": "stdout",
     "output_type": "stream",
     "text": [
      "Null values in external_factors\n",
      "date                   0\n",
      "economic_index         0\n",
      "cloud_market_demand    0\n",
      "holiday                0\n",
      "dtype: int64\n",
      "        date  economic_index  cloud_market_demand  holiday\n",
      "0 2023-01-01          104.97                 0.99        1\n",
      "1 2023-01-02          106.48                 1.15        0\n",
      "2 2023-01-03           97.66                 0.98        0\n",
      "3 2023-01-04          115.79                 1.08        0\n",
      "4 2023-01-05           95.31                 1.05        0\n"
     ]
    }
   ],
   "source": [
    "print(\"Null values in external_factors\")\n",
    "print(df2.isnull().sum())\n",
    "print(df2.head())"
   ]
  },
  {
   "cell_type": "code",
   "execution_count": 7,
   "id": "a2b1d697",
   "metadata": {},
   "outputs": [
    {
     "name": "stdout",
     "output_type": "stream",
     "text": [
      "1080\n"
     ]
    }
   ],
   "source": [
    "merged = pd.merge(df1, df2, on=\"date\", how=\"inner\")\n",
    "print(len(merged))"
   ]
  },
  {
   "cell_type": "code",
   "execution_count": 8,
   "id": "e7436f79",
   "metadata": {},
   "outputs": [
    {
     "name": "stdout",
     "output_type": "stream",
     "text": [
      "        date   region resource_type  usage_cpu  usage_storage  users_active  \\\n",
      "0 2023-01-01  east us            vm         88           1959           470   \n",
      "1 2023-01-01  east us       storage         92           1595           388   \n",
      "2 2023-01-01  east us     container         70            621           414   \n",
      "3 2023-01-01  west us            vm         60           1982           287   \n",
      "4 2023-01-01  west us       storage         85           1371           351   \n",
      "\n",
      "   economic_index  cloud_market_demand  holiday  \n",
      "0          104.97                 0.99        1  \n",
      "1          104.97                 0.99        1  \n",
      "2          104.97                 0.99        1  \n",
      "3          104.97                 0.99        1  \n",
      "4          104.97                 0.99        1  \n"
     ]
    }
   ],
   "source": [
    "print(merged.head())\n",
    "merged.to_csv(\"../Data/Processed/cleaned_merged.csv\",index=False)"
   ]
  }
 ],
 "metadata": {
  "kernelspec": {
   "display_name": "myenv (3.13.3)",
   "language": "python",
   "name": "python3"
  },
  "language_info": {
   "codemirror_mode": {
    "name": "ipython",
    "version": 3
   },
   "file_extension": ".py",
   "mimetype": "text/x-python",
   "name": "python",
   "nbconvert_exporter": "python",
   "pygments_lexer": "ipython3",
   "version": "3.13.3"
  }
 },
 "nbformat": 4,
 "nbformat_minor": 5
}
