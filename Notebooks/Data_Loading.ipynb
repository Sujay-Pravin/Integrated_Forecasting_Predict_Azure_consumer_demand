{
 "cells": [
  {
   "cell_type": "code",
   "execution_count": 21,
   "id": "initial_id",
   "metadata": {
    "collapsed": true,
    "jupyter": {
     "is_executing": true
    }
   },
   "outputs": [],
   "source": [
    "import os\n",
    "import numpy as np\n",
    "import pandas as pd\n",
    "import matplotlib.pyplot as plt\n",
    "import seaborn as sns\n"
   ]
  },
  {
   "cell_type": "code",
   "execution_count": 22,
   "id": "8f621155df88561d",
   "metadata": {},
   "outputs": [
    {
     "name": "stdout",
     "output_type": "stream",
     "text": [
      "------------------------------------df1-----------------------------------------\n",
      "         date   region resource_type  usage_cpu  usage_storage  users_active\n",
      "0  2023-01-01  East US            VM         88           1959           470\n",
      "1  2023-01-01  East US       Storage         92           1595           388\n",
      "2  2023-01-01  East US     Container         70            621           414\n",
      "3  2023-01-01  West US            VM         60           1982           287\n",
      "4  2023-01-01  West US       Storage         85           1371           351\n",
      "------------------------------------df2-----------------------------------------\n",
      "         date  economic_index  cloud_market_demand  holiday\n",
      "0  2023-01-01          104.97                 0.99        1\n",
      "1  2023-01-02          106.48                 1.15        0\n",
      "2  2023-01-03           97.66                 0.98        0\n",
      "3  2023-01-04          115.79                 1.08        0\n",
      "4  2023-01-05           95.31                 1.05        0\n"
     ]
    }
   ],
   "source": [
    "df1 = pd.read_csv(\"../Data/Raw/azure_usage.csv\")\n",
    "df2 = pd.read_csv(\"../Data/Raw/external_factors.csv\")\n",
    "\n",
    "print(\"------------------------------------df1-----------------------------------------\")\n",
    "print(df1.head())\n",
    "print(\"------------------------------------df2-----------------------------------------\")\n",
    "print(df2.head())\n"
   ]
  },
  {
   "cell_type": "code",
   "execution_count": 23,
   "id": "6cbe81c8",
   "metadata": {},
   "outputs": [
    {
     "name": "stdout",
     "output_type": "stream",
     "text": [
      "Unique Regions : \n",
      "['East US' 'West US' 'North Europe' 'Southeast Asia']\n",
      "Different Resourses : \n",
      "['VM' 'Storage' 'Container']\n"
     ]
    }
   ],
   "source": [
    "print(\"Unique Regions : \")  \n",
    "print(df1.region.unique())\n",
    "print(\"Different Resourses : \")  \n",
    "print(df1.resource_type.unique())"
   ]
  },
  {
   "cell_type": "code",
   "execution_count": 24,
   "id": "ea05f7f5",
   "metadata": {},
   "outputs": [
    {
     "name": "stdout",
     "output_type": "stream",
     "text": [
      "------------------------------------df1-----------------------------------------\n",
      "<class 'pandas.core.frame.DataFrame'>\n",
      "RangeIndex: 1080 entries, 0 to 1079\n",
      "Data columns (total 6 columns):\n",
      " #   Column         Non-Null Count  Dtype \n",
      "---  ------         --------------  ----- \n",
      " 0   date           1080 non-null   object\n",
      " 1   region         1080 non-null   object\n",
      " 2   resource_type  1080 non-null   object\n",
      " 3   usage_cpu      1080 non-null   int64 \n",
      " 4   usage_storage  1080 non-null   int64 \n",
      " 5   users_active   1080 non-null   int64 \n",
      "dtypes: int64(3), object(3)\n",
      "memory usage: 50.8+ KB\n",
      "None\n",
      "------------------------------------df2-----------------------------------------\n",
      "<class 'pandas.core.frame.DataFrame'>\n",
      "RangeIndex: 90 entries, 0 to 89\n",
      "Data columns (total 4 columns):\n",
      " #   Column               Non-Null Count  Dtype  \n",
      "---  ------               --------------  -----  \n",
      " 0   date                 90 non-null     object \n",
      " 1   economic_index       90 non-null     float64\n",
      " 2   cloud_market_demand  90 non-null     float64\n",
      " 3   holiday              90 non-null     int64  \n",
      "dtypes: float64(2), int64(1), object(1)\n",
      "memory usage: 2.9+ KB\n",
      "None\n"
     ]
    }
   ],
   "source": [
    "print(\"------------------------------------df1-----------------------------------------\")\n",
    "print(df1.info())\n",
    "print(\"------------------------------------df2-----------------------------------------\")\n",
    "print(df2.info())"
   ]
  },
  {
   "cell_type": "code",
   "execution_count": 25,
   "id": "4a53e963",
   "metadata": {},
   "outputs": [
    {
     "name": "stdout",
     "output_type": "stream",
     "text": [
      "------------------------------------df1-----------------------------------------\n",
      "         usage_cpu  usage_storage  users_active\n",
      "count  1080.000000    1080.000000   1080.000000\n",
      "mean     74.651852    1242.477778    352.694444\n",
      "std      14.549621     432.444284     86.280150\n",
      "min      50.000000     500.000000    200.000000\n",
      "25%      62.000000     881.750000    283.000000\n",
      "50%      75.000000    1262.000000    353.000000\n",
      "75%      87.000000    1609.000000    427.000000\n",
      "max      99.000000    1995.000000    499.000000\n",
      "------------------------------------df2-----------------------------------------\n",
      "       economic_index  cloud_market_demand    holiday\n",
      "count       90.000000            90.000000  90.000000\n",
      "mean        98.930444             1.006667   0.277778\n",
      "std          8.825072             0.101517   0.450412\n",
      "min         73.800000             0.800000   0.000000\n",
      "25%         93.035000             0.940000   0.000000\n",
      "50%         99.645000             1.015000   0.000000\n",
      "75%        103.567500             1.077500   1.000000\n",
      "max        118.860000             1.270000   1.000000\n"
     ]
    }
   ],
   "source": [
    "print(\"------------------------------------df1-----------------------------------------\")\n",
    "print(df1.describe())\n",
    "print(\"------------------------------------df2-----------------------------------------\")\n",
    "print(df2.describe())"
   ]
  }
 ],
 "metadata": {
  "kernelspec": {
   "display_name": "myenv (3.13.3)",
   "language": "python",
   "name": "python3"
  },
  "language_info": {
   "codemirror_mode": {
    "name": "ipython",
    "version": 3
   },
   "file_extension": ".py",
   "mimetype": "text/x-python",
   "name": "python",
   "nbconvert_exporter": "python",
   "pygments_lexer": "ipython3",
   "version": "3.13.3"
  }
 },
 "nbformat": 4,
 "nbformat_minor": 5
}
